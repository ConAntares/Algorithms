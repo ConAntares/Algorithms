{
 "nbformat": 4,
 "nbformat_minor": 2,
 "metadata": {
  "language_info": {
   "name": "python",
   "codemirror_mode": {
    "name": "ipython",
    "version": 3
   },
   "version": "3.7.6-final"
  },
  "orig_nbformat": 2,
  "file_extension": ".py",
  "mimetype": "text/x-python",
  "name": "python",
  "npconvert_exporter": "python",
  "pygments_lexer": "ipython3",
  "version": 3,
  "kernelspec": {
   "name": "python37664bitadd2d29322fc4c69b2fa8d1ba2d3991d",
   "display_name": "Python 3.7.6 64-bit"
  }
 },
 "cells": [
  {
   "cell_type": "markdown",
   "metadata": {},
   "source": [
    "# Linear Dynamical Systems in Python"
   ]
  },
  {
   "cell_type": "markdown",
   "metadata": {},
   "source": [
    "## Basic Linear Dynamical System\n",
    "Let's simulate a time-invariant linear dynamic system  \n",
    "$x_{t+1}=Ax_t, t=1,...,T$  \n",
    "with dynamics matrix  \n",
    "$A= \\begin{bmatrix}\n",
    "    0.97 &  0.10 & -0.05 \\\\\n",
    "   -0.30 &  0.99 &  0.05 \\\\\n",
    "    0.01 & -0.04 &  0.96\n",
    "    \\end{bmatrix}$  \n",
    "and initial state $x_1=(1,0,-1)$. We store the state trajectory in the $n \\times T$ matrix `state_traj`, with the $i$th column $x_t$. "
   ]
  },
  {
   "cell_type": "code",
   "execution_count": null,
   "metadata": {},
   "outputs": [],
   "source": [
    "import numpy as np\n",
    "import matplotlib as mpl\n",
    "import matplotlib.pyplot as plt\n",
    "\n",
    "x1 = np.vector([ 1, 0, -1])     # Initinal state"
   ]
  }
 ]
}