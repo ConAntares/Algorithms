{
 "nbformat": 4,
 "nbformat_minor": 2,
 "metadata": {
  "language_info": {
   "name": "python",
   "codemirror_mode": {
    "name": "ipython",
    "version": 3
   },
   "version": "3.7.6-final"
  },
  "orig_nbformat": 2,
  "file_extension": ".py",
  "mimetype": "text/x-python",
  "name": "python",
  "npconvert_exporter": "python",
  "pygments_lexer": "ipython3",
  "version": 3,
  "kernelspec": {
   "name": "python37664bitadd2d29322fc4c69b2fa8d1ba2d3991d",
   "display_name": "Python 3.7.6 64-bit"
  }
 },
 "cells": [
  {
   "cell_type": "markdown",
   "metadata": {},
   "source": [
    "# Linear Dynamical Systems in Python"
   ]
  },
  {
   "cell_type": "markdown",
   "metadata": {},
   "source": [
    "## Basic Linear Dynamical System\n",
    "Let's simulate a time-invariant linear dynamic system  \n",
    "$x_{t+1}=Ax_t, t=1,...,T$  \n",
    "with dynamics matrix  \n",
    "$A= \\begin{bmatrix}\n",
    "    0.97 &  0.10 & -0.05 \\\\\n",
    "   -0.30 &  0.99 &  0.05 \\\\\n",
    "    0.01 & -0.04 &  0.96\n",
    "    \\end{bmatrix}$  \n",
    "and initial state $x_1=(1,0,-1)$. We store the state trajectory in the $n \\times T$ matrix `state_traj`, with the $i$th column $x_t$. "
   ]
  },
  {
   "cell_type": "code",
   "execution_count": 16,
   "metadata": {},
   "outputs": [
    {
     "output_type": "error",
     "ename": "ValueError",
     "evalue": "only 2 non-keyword arguments accepted",
     "traceback": [
      "\u001b[0;31m---------------------------------------------------------------------------\u001b[0m",
      "\u001b[0;31mValueError\u001b[0m                                Traceback (most recent call last)",
      "\u001b[0;32m<ipython-input-16-e59eb915e314>\u001b[0m in \u001b[0;36m<module>\u001b[0;34m\u001b[0m\n\u001b[1;32m      8\u001b[0m A  = np.array([ 0.97, 0.10,-0.05],\n\u001b[1;32m      9\u001b[0m               \u001b[0;34m[\u001b[0m\u001b[0;34m-\u001b[0m\u001b[0;36m0.30\u001b[0m\u001b[0;34m,\u001b[0m \u001b[0;36m0.99\u001b[0m\u001b[0;34m,\u001b[0m \u001b[0;36m0.05\u001b[0m\u001b[0;34m]\u001b[0m\u001b[0;34m,\u001b[0m\u001b[0;34m\u001b[0m\u001b[0;34m\u001b[0m\u001b[0m\n\u001b[0;32m---> 10\u001b[0;31m               [ 0.04,-0.04, 0.96])\n\u001b[0m\u001b[1;32m     11\u001b[0m \u001b[0;34m\u001b[0m\u001b[0m\n\u001b[1;32m     12\u001b[0m \u001b[0mstate_traj\u001b[0m \u001b[0;34m=\u001b[0m \u001b[0mnp\u001b[0m\u001b[0;34m.\u001b[0m\u001b[0mvstack\u001b[0m\u001b[0;34m(\u001b[0m\u001b[0mnp\u001b[0m\u001b[0;34m.\u001b[0m\u001b[0mtranspose\u001b[0m\u001b[0;34m(\u001b[0m\u001b[0mx1\u001b[0m\u001b[0;34m)\u001b[0m\u001b[0;34m,\u001b[0m \u001b[0mnp\u001b[0m\u001b[0;34m.\u001b[0m\u001b[0mzeros\u001b[0m\u001b[0;34m(\u001b[0m\u001b[0mn\u001b[0m\u001b[0;34m,\u001b[0m\u001b[0mT\u001b[0m\u001b[0;34m-\u001b[0m\u001b[0;36m1\u001b[0m\u001b[0;34m)\u001b[0m\u001b[0;34m)\u001b[0m\u001b[0;34m\u001b[0m\u001b[0;34m\u001b[0m\u001b[0m\n",
      "\u001b[0;31mValueError\u001b[0m: only 2 non-keyword arguments accepted"
     ]
    }
   ],
   "source": [
    "import numpy as np\n",
    "import matplotlib as mpl\n",
    "import matplotlib.pyplot as plt\n",
    "\n",
    "x1 = np.array([ 1, 0, -1])     # Initinal state\n",
    "n  = len(x1)\n",
    "T  = 50 \n",
    "A  = np.array([ 0.97, 0.10,-0.05],\n",
    "              [-0.30, 0.99, 0.05],\n",
    "              [ 0.04,-0.04, 0.96])\n",
    "\n",
    "state_traj = np.vstack(np.transpose(x1), np.zeros(n,T-1))\n",
    "\n",
    "for t in np.arange(1,T):\n",
    "    state_traj[:,t] = np.dot(A,state_traj[:,t-1])\n",
    "\n",
    "line,= plt.plot(np.arange(1,T), np.transpose(state_traj)[:,0], label = \"xt_1\", antialiased=True)\n",
    "fill = ax.stackplot(x, y, color=\"#A064DC\", alpha=0.25,baseline=\"zero\")"
   ]
  }
 ]
}