{
 "nbformat": 4,
 "nbformat_minor": 2,
 "metadata": {
  "language_info": {
   "name": "python",
   "codemirror_mode": {
    "name": "ipython",
    "version": 3
   },
   "version": "3.7.6-final"
  },
  "orig_nbformat": 2,
  "file_extension": ".py",
  "mimetype": "text/x-python",
  "name": "python",
  "npconvert_exporter": "python",
  "pygments_lexer": "ipython3",
  "version": 3,
  "kernelspec": {
   "name": "python37664bitd908154bd60444fda8a32f5f81d03aac",
   "display_name": "Python 3.7.6 64-bit"
  }
 },
 "cells": [
  {
   "cell_type": "markdown",
   "metadata": {},
   "source": [
    "# Approach of Python\n",
    "\n",
    "with numpy and tensorflow"
   ]
  },
  {
   "cell_type": "code",
   "execution_count": 17,
   "metadata": {},
   "outputs": [],
   "source": [
    "import numpy as np\n",
    "import tensorflow as tf"
   ]
  },
  {
   "cell_type": "markdown",
   "metadata": {},
   "source": [
    "### Fundamentals of Array\n",
    "\n",
    "#### 1 Dimension Array Creation"
   ]
  },
  {
   "cell_type": "code",
   "execution_count": 18,
   "metadata": {},
   "outputs": [
    {
     "output_type": "stream",
     "name": "stdout",
     "text": "[1 6 4]\n"
    }
   ],
   "source": [
    "list1D_array = np.array([1,6,4])\n",
    "print(list1D_array)"
   ]
  },
  {
   "cell_type": "markdown",
   "metadata": {},
   "source": [
    "2 Dimensions Array Creation"
   ]
  },
  {
   "cell_type": "code",
   "execution_count": 19,
   "metadata": {},
   "outputs": [],
   "source": [
    "list2D_array = np.array([[0.0, 0.1, 0.2, 0.3, 0.4],\n",
    "                         [1.8, 1.6, 1.4, 1.2, 1.0],\n",
    "                         [2.1, 2.3, 2.5, 2.7, 2.9]])\n",
    "print(list1D_array)"
   ]
  },
  {
   "cell_type": "markdown",
   "metadata": {},
   "source": [
    "3 Dimensions Array Creation"
   ]
  },
  {
   "cell_type": "code",
   "execution_count": 20,
   "metadata": {},
   "outputs": [],
   "source": [
    "list3D_array = np.array([[[0.000,0.001,0.002,0.003],[0.010,0.011,0.012,0.013],[0.020,0.021,0.022,0.023],[0.030,0.031,0.032,0.033]],\n",
    "                         [[0.100,0.101,0.102,0.103],[0.110,0.111,0.112,0.113],[0.120,0.121,0.122,0.123],[0.130,0.131,0.132,0.133]],\n",
    "                         [[0.200,0.201,0.202,0.203],[0.210,0.211,0.212,0.213],[0.220,0.221,0.222,0.223],[0.230,0.231,0.232,0.233]],\n",
    "                         [[0.300,0.301,0.302,0.303],[0.310,0.311,0.312,0.313],[0.320,0.321,0.322,0.323],[0.330,0.331,0.332,0.333]]])"
   ]
  },
  {
   "cell_type": "markdown",
   "metadata": {},
   "source": [
    "Array characters\n",
    "\n",
    "Dtype:  \n",
    "    `np.int16`, `np.int32`, `np.int64`,  \n",
    "    `np.float16`, `np.float32`, `np.float64`,  \n",
    "    `np.complex64`, `np.complex128`, `np.complex256`, "
   ]
  },
  {
   "cell_type": "code",
   "execution_count": null,
   "metadata": {},
   "outputs": [],
   "source": []
  }
 ]
}